{
 "cells": [
  {
   "cell_type": "markdown",
   "id": "04fecd33",
   "metadata": {},
   "source": [
    "# Price Action Analysis"
   ]
  },
  {
   "cell_type": "markdown",
   "id": "93e050bd",
   "metadata": {},
   "source": [
    "### Nordic American Tankers Ltd. (NAT)"
   ]
  },
  {
   "cell_type": "code",
   "execution_count": 25,
   "id": "566884f9",
   "metadata": {},
   "outputs": [],
   "source": [
    "import pandas as pd\n",
    "import matplotlib.pyplot as plt\n",
    "%matplotlib inline\n",
    "plt.style.use('fivethirtyeight')\n",
    "import math\n",
    "import numpy as np\n",
    "from sklearn.preprocessing import MinMaxScaler\n",
    "from keras.models import Sequential\n",
    "from keras.layers import Dense,LSTM"
   ]
  },
  {
   "cell_type": "code",
   "execution_count": 8,
   "id": "aa29a13c",
   "metadata": {},
   "outputs": [],
   "source": [
    "df = pd.read_csv('C:\\\\Users\\\\Galaxy Computers\\\\Downloads\\\\NAT.csv',parse_dates=['Date'])"
   ]
  },
  {
   "cell_type": "code",
   "execution_count": 9,
   "id": "d57767ba",
   "metadata": {},
   "outputs": [
    {
     "data": {
      "text/html": [
       "<div>\n",
       "<style scoped>\n",
       "    .dataframe tbody tr th:only-of-type {\n",
       "        vertical-align: middle;\n",
       "    }\n",
       "\n",
       "    .dataframe tbody tr th {\n",
       "        vertical-align: top;\n",
       "    }\n",
       "\n",
       "    .dataframe thead th {\n",
       "        text-align: right;\n",
       "    }\n",
       "</style>\n",
       "<table border=\"1\" class=\"dataframe\">\n",
       "  <thead>\n",
       "    <tr style=\"text-align: right;\">\n",
       "      <th></th>\n",
       "      <th>Date</th>\n",
       "      <th>Open</th>\n",
       "      <th>High</th>\n",
       "      <th>Low</th>\n",
       "      <th>Close</th>\n",
       "      <th>Adj Close</th>\n",
       "      <th>Volume</th>\n",
       "    </tr>\n",
       "  </thead>\n",
       "  <tbody>\n",
       "    <tr>\n",
       "      <th>0</th>\n",
       "      <td>2022-10-06</td>\n",
       "      <td>2.63</td>\n",
       "      <td>2.74</td>\n",
       "      <td>2.54</td>\n",
       "      <td>2.63</td>\n",
       "      <td>2.318717</td>\n",
       "      <td>6391600</td>\n",
       "    </tr>\n",
       "    <tr>\n",
       "      <th>1</th>\n",
       "      <td>2022-10-07</td>\n",
       "      <td>2.61</td>\n",
       "      <td>2.77</td>\n",
       "      <td>2.61</td>\n",
       "      <td>2.71</td>\n",
       "      <td>2.389249</td>\n",
       "      <td>5316700</td>\n",
       "    </tr>\n",
       "    <tr>\n",
       "      <th>2</th>\n",
       "      <td>2022-10-10</td>\n",
       "      <td>2.71</td>\n",
       "      <td>2.82</td>\n",
       "      <td>2.60</td>\n",
       "      <td>2.61</td>\n",
       "      <td>2.301084</td>\n",
       "      <td>3602100</td>\n",
       "    </tr>\n",
       "    <tr>\n",
       "      <th>3</th>\n",
       "      <td>2022-10-11</td>\n",
       "      <td>2.56</td>\n",
       "      <td>2.64</td>\n",
       "      <td>2.49</td>\n",
       "      <td>2.61</td>\n",
       "      <td>2.301084</td>\n",
       "      <td>4220400</td>\n",
       "    </tr>\n",
       "    <tr>\n",
       "      <th>4</th>\n",
       "      <td>2022-10-12</td>\n",
       "      <td>2.61</td>\n",
       "      <td>2.75</td>\n",
       "      <td>2.55</td>\n",
       "      <td>2.73</td>\n",
       "      <td>2.406881</td>\n",
       "      <td>4343100</td>\n",
       "    </tr>\n",
       "  </tbody>\n",
       "</table>\n",
       "</div>"
      ],
      "text/plain": [
       "        Date  Open  High   Low  Close  Adj Close   Volume\n",
       "0 2022-10-06  2.63  2.74  2.54   2.63   2.318717  6391600\n",
       "1 2022-10-07  2.61  2.77  2.61   2.71   2.389249  5316700\n",
       "2 2022-10-10  2.71  2.82  2.60   2.61   2.301084  3602100\n",
       "3 2022-10-11  2.56  2.64  2.49   2.61   2.301084  4220400\n",
       "4 2022-10-12  2.61  2.75  2.55   2.73   2.406881  4343100"
      ]
     },
     "execution_count": 9,
     "metadata": {},
     "output_type": "execute_result"
    }
   ],
   "source": [
    "df.head()"
   ]
  },
  {
   "cell_type": "code",
   "execution_count": 10,
   "id": "5919d281",
   "metadata": {},
   "outputs": [
    {
     "data": {
      "text/html": [
       "<div>\n",
       "<style scoped>\n",
       "    .dataframe tbody tr th:only-of-type {\n",
       "        vertical-align: middle;\n",
       "    }\n",
       "\n",
       "    .dataframe tbody tr th {\n",
       "        vertical-align: top;\n",
       "    }\n",
       "\n",
       "    .dataframe thead th {\n",
       "        text-align: right;\n",
       "    }\n",
       "</style>\n",
       "<table border=\"1\" class=\"dataframe\">\n",
       "  <thead>\n",
       "    <tr style=\"text-align: right;\">\n",
       "      <th></th>\n",
       "      <th>Date</th>\n",
       "      <th>Open</th>\n",
       "      <th>High</th>\n",
       "      <th>Low</th>\n",
       "      <th>Close</th>\n",
       "      <th>Adj Close</th>\n",
       "      <th>Volume</th>\n",
       "    </tr>\n",
       "  </thead>\n",
       "  <tbody>\n",
       "    <tr>\n",
       "      <th>247</th>\n",
       "      <td>2023-10-02</td>\n",
       "      <td>4.11</td>\n",
       "      <td>4.17</td>\n",
       "      <td>3.94</td>\n",
       "      <td>3.94</td>\n",
       "      <td>3.94</td>\n",
       "      <td>3343400</td>\n",
       "    </tr>\n",
       "    <tr>\n",
       "      <th>248</th>\n",
       "      <td>2023-10-03</td>\n",
       "      <td>3.93</td>\n",
       "      <td>3.97</td>\n",
       "      <td>3.84</td>\n",
       "      <td>3.91</td>\n",
       "      <td>3.91</td>\n",
       "      <td>2362700</td>\n",
       "    </tr>\n",
       "    <tr>\n",
       "      <th>249</th>\n",
       "      <td>2023-10-04</td>\n",
       "      <td>3.88</td>\n",
       "      <td>3.89</td>\n",
       "      <td>3.79</td>\n",
       "      <td>3.85</td>\n",
       "      <td>3.85</td>\n",
       "      <td>2260200</td>\n",
       "    </tr>\n",
       "    <tr>\n",
       "      <th>250</th>\n",
       "      <td>2023-10-05</td>\n",
       "      <td>3.88</td>\n",
       "      <td>4.01</td>\n",
       "      <td>3.87</td>\n",
       "      <td>4.00</td>\n",
       "      <td>4.00</td>\n",
       "      <td>2749300</td>\n",
       "    </tr>\n",
       "    <tr>\n",
       "      <th>251</th>\n",
       "      <td>2023-10-06</td>\n",
       "      <td>3.96</td>\n",
       "      <td>4.08</td>\n",
       "      <td>3.95</td>\n",
       "      <td>4.05</td>\n",
       "      <td>4.05</td>\n",
       "      <td>2064453</td>\n",
       "    </tr>\n",
       "  </tbody>\n",
       "</table>\n",
       "</div>"
      ],
      "text/plain": [
       "          Date  Open  High   Low  Close  Adj Close   Volume\n",
       "247 2023-10-02  4.11  4.17  3.94   3.94       3.94  3343400\n",
       "248 2023-10-03  3.93  3.97  3.84   3.91       3.91  2362700\n",
       "249 2023-10-04  3.88  3.89  3.79   3.85       3.85  2260200\n",
       "250 2023-10-05  3.88  4.01  3.87   4.00       4.00  2749300\n",
       "251 2023-10-06  3.96  4.08  3.95   4.05       4.05  2064453"
      ]
     },
     "execution_count": 10,
     "metadata": {},
     "output_type": "execute_result"
    }
   ],
   "source": [
    "df.tail()"
   ]
  },
  {
   "cell_type": "code",
   "execution_count": 11,
   "id": "4d7867fe",
   "metadata": {},
   "outputs": [
    {
     "data": {
      "text/html": [
       "<div>\n",
       "<style scoped>\n",
       "    .dataframe tbody tr th:only-of-type {\n",
       "        vertical-align: middle;\n",
       "    }\n",
       "\n",
       "    .dataframe tbody tr th {\n",
       "        vertical-align: top;\n",
       "    }\n",
       "\n",
       "    .dataframe thead th {\n",
       "        text-align: right;\n",
       "    }\n",
       "</style>\n",
       "<table border=\"1\" class=\"dataframe\">\n",
       "  <thead>\n",
       "    <tr style=\"text-align: right;\">\n",
       "      <th></th>\n",
       "      <th>Open</th>\n",
       "      <th>High</th>\n",
       "      <th>Low</th>\n",
       "      <th>Close</th>\n",
       "      <th>Adj Close</th>\n",
       "      <th>Volume</th>\n",
       "    </tr>\n",
       "  </thead>\n",
       "  <tbody>\n",
       "    <tr>\n",
       "      <th>count</th>\n",
       "      <td>252.000000</td>\n",
       "      <td>252.000000</td>\n",
       "      <td>252.000000</td>\n",
       "      <td>252.000000</td>\n",
       "      <td>252.000000</td>\n",
       "      <td>2.520000e+02</td>\n",
       "    </tr>\n",
       "    <tr>\n",
       "      <th>mean</th>\n",
       "      <td>3.622460</td>\n",
       "      <td>3.706627</td>\n",
       "      <td>3.542500</td>\n",
       "      <td>3.623135</td>\n",
       "      <td>3.362639</td>\n",
       "      <td>3.258058e+06</td>\n",
       "    </tr>\n",
       "    <tr>\n",
       "      <th>std</th>\n",
       "      <td>0.419979</td>\n",
       "      <td>0.418328</td>\n",
       "      <td>0.415298</td>\n",
       "      <td>0.415666</td>\n",
       "      <td>0.475855</td>\n",
       "      <td>1.616848e+06</td>\n",
       "    </tr>\n",
       "    <tr>\n",
       "      <th>min</th>\n",
       "      <td>2.560000</td>\n",
       "      <td>2.640000</td>\n",
       "      <td>2.490000</td>\n",
       "      <td>2.610000</td>\n",
       "      <td>2.301084</td>\n",
       "      <td>1.089200e+06</td>\n",
       "    </tr>\n",
       "    <tr>\n",
       "      <th>25%</th>\n",
       "      <td>3.337500</td>\n",
       "      <td>3.430000</td>\n",
       "      <td>3.227500</td>\n",
       "      <td>3.330000</td>\n",
       "      <td>2.965532</td>\n",
       "      <td>2.160950e+06</td>\n",
       "    </tr>\n",
       "    <tr>\n",
       "      <th>50%</th>\n",
       "      <td>3.640000</td>\n",
       "      <td>3.750000</td>\n",
       "      <td>3.580000</td>\n",
       "      <td>3.645000</td>\n",
       "      <td>3.369968</td>\n",
       "      <td>2.825200e+06</td>\n",
       "    </tr>\n",
       "    <tr>\n",
       "      <th>75%</th>\n",
       "      <td>3.920000</td>\n",
       "      <td>3.990000</td>\n",
       "      <td>3.817500</td>\n",
       "      <td>3.912500</td>\n",
       "      <td>3.722670</td>\n",
       "      <td>3.891800e+06</td>\n",
       "    </tr>\n",
       "    <tr>\n",
       "      <th>max</th>\n",
       "      <td>4.520000</td>\n",
       "      <td>4.650000</td>\n",
       "      <td>4.430000</td>\n",
       "      <td>4.540000</td>\n",
       "      <td>4.279241</td>\n",
       "      <td>1.092990e+07</td>\n",
       "    </tr>\n",
       "  </tbody>\n",
       "</table>\n",
       "</div>"
      ],
      "text/plain": [
       "             Open        High         Low       Close   Adj Close  \\\n",
       "count  252.000000  252.000000  252.000000  252.000000  252.000000   \n",
       "mean     3.622460    3.706627    3.542500    3.623135    3.362639   \n",
       "std      0.419979    0.418328    0.415298    0.415666    0.475855   \n",
       "min      2.560000    2.640000    2.490000    2.610000    2.301084   \n",
       "25%      3.337500    3.430000    3.227500    3.330000    2.965532   \n",
       "50%      3.640000    3.750000    3.580000    3.645000    3.369968   \n",
       "75%      3.920000    3.990000    3.817500    3.912500    3.722670   \n",
       "max      4.520000    4.650000    4.430000    4.540000    4.279241   \n",
       "\n",
       "             Volume  \n",
       "count  2.520000e+02  \n",
       "mean   3.258058e+06  \n",
       "std    1.616848e+06  \n",
       "min    1.089200e+06  \n",
       "25%    2.160950e+06  \n",
       "50%    2.825200e+06  \n",
       "75%    3.891800e+06  \n",
       "max    1.092990e+07  "
      ]
     },
     "execution_count": 11,
     "metadata": {},
     "output_type": "execute_result"
    }
   ],
   "source": [
    "df.describe()"
   ]
  },
  {
   "cell_type": "code",
   "execution_count": 12,
   "id": "8c540b54",
   "metadata": {},
   "outputs": [
    {
     "name": "stdout",
     "output_type": "stream",
     "text": [
      "<class 'pandas.core.frame.DataFrame'>\n",
      "RangeIndex: 252 entries, 0 to 251\n",
      "Data columns (total 7 columns):\n",
      " #   Column     Non-Null Count  Dtype         \n",
      "---  ------     --------------  -----         \n",
      " 0   Date       252 non-null    datetime64[ns]\n",
      " 1   Open       252 non-null    float64       \n",
      " 2   High       252 non-null    float64       \n",
      " 3   Low        252 non-null    float64       \n",
      " 4   Close      252 non-null    float64       \n",
      " 5   Adj Close  252 non-null    float64       \n",
      " 6   Volume     252 non-null    int64         \n",
      "dtypes: datetime64[ns](1), float64(5), int64(1)\n",
      "memory usage: 13.9 KB\n"
     ]
    }
   ],
   "source": [
    "df.info()"
   ]
  },
  {
   "cell_type": "code",
   "execution_count": 45,
   "id": "2f1685d7",
   "metadata": {},
   "outputs": [
    {
     "data": {
      "image/png": "[encoded data removed]",
      "text/plain": [
       "<Figure size 864x432 with 1 Axes>"
      ]
     },
     "metadata": {},
     "output_type": "display_data"
    }
   ],
   "source": [
    "plt.figure(figsize=(12, 6))\n",
    "plt.plot(df['Date'], df['Close'],color='red')\n",
    "plt.title('Close Price History')\n",
    "plt.xlabel('Date',fontsize=18)\n",
    "plt.ylabel('Close',fontsize=18)\n",
    "\n",
    "plt.show()"
   ]
  },
  {
   "cell_type": "code",
   "execution_count": 43,
   "id": "58fcd2af",
   "metadata": {},
   "outputs": [
    {
     "data": {
      "text/plain": [
       "202"
      ]
     },
     "execution_count": 43,
     "metadata": {},
     "output_type": "execute_result"
    }
   ],
   "source": [
    "data =df.filter(['Close'])\n",
    "dataset = data.values\n",
    "traning_data_len = math.ceil(len(dataset)*.8)\n",
    "traning_data_len"
   ]
  },
  {
   "cell_type": "code",
   "execution_count": 44,
   "id": "19060071",
   "metadata": {},
   "outputs": [
    {
     "data": {
      "text/plain": [
       "array([[0.01036269],\n",
       "       [0.05181347],\n",
       "       [0.        ],\n",
       "       [0.        ],\n",
       "       [0.06217617],\n",
       "       [0.14507772],\n",
       "       [0.22797927],\n",
       "       [0.30569948],\n",
       "       [0.34715026],\n",
       "       [0.32642487],\n",
       "       [0.28497409],\n",
       "       [0.32642487],\n",
       "       [0.27979275],\n",
       "       [0.31606218],\n",
       "       [0.25388601],\n",
       "       [0.22797927],\n",
       "       [0.20207254],\n",
       "       [0.24870466],\n",
       "       [0.29015544],\n",
       "       [0.29533679],\n",
       "       [0.39378238],\n",
       "       [0.40932642],\n",
       "       [0.39378238],\n",
       "       [0.41968912],\n",
       "       [0.30569948],\n",
       "       [0.2746114 ],\n",
       "       [0.34715026],\n",
       "       [0.35233161],\n",
       "       [0.4611399 ],\n",
       "       [0.41450777],\n",
       "       [0.52849741],\n",
       "       [0.52849741],\n",
       "       [0.61658031],\n",
       "       [0.46632124],\n",
       "       [0.4611399 ],\n",
       "       [0.47150259],\n",
       "       [0.37305699],\n",
       "       [0.44559585],\n",
       "       [0.52331606],\n",
       "       [0.50259067],\n",
       "       [0.59067358],\n",
       "       [0.54404145],\n",
       "       [0.4507772 ],\n",
       "       [0.23316062],\n",
       "       [0.31088083],\n",
       "       [0.31606218],\n",
       "       [0.44559585],\n",
       "       [0.43523316],\n",
       "       [0.38341969],\n",
       "       [0.47150259],\n",
       "       [0.45595855],\n",
       "       [0.32642487],\n",
       "       [0.29533679],\n",
       "       [0.31606218],\n",
       "       [0.29015544],\n",
       "       [0.29533679],\n",
       "       [0.28497409],\n",
       "       [0.21761658],\n",
       "       [0.22797927],\n",
       "       [0.23316062],\n",
       "       [0.19170984],\n",
       "       [0.15025907],\n",
       "       [0.16062176],\n",
       "       [0.1761658 ],\n",
       "       [0.16062176],\n",
       "       [0.22797927],\n",
       "       [0.18134715],\n",
       "       [0.21243523],\n",
       "       [0.2746114 ],\n",
       "       [0.31606218],\n",
       "       [0.27979275],\n",
       "       [0.22797927],\n",
       "       [0.20725389],\n",
       "       [0.18134715],\n",
       "       [0.18134715],\n",
       "       [0.15544041],\n",
       "       [0.14507772],\n",
       "       [0.19689119],\n",
       "       [0.19689119],\n",
       "       [0.22279793],\n",
       "       [0.25388601],\n",
       "       [0.23834197],\n",
       "       [0.24870466],\n",
       "       [0.33678756],\n",
       "       [0.35751295],\n",
       "       [0.35233161],\n",
       "       [0.38341969],\n",
       "       [0.37305699],\n",
       "       [0.47668394],\n",
       "       [0.52849741],\n",
       "       [0.59067358],\n",
       "       [0.60103627],\n",
       "       [0.55440415],\n",
       "       [0.55440415],\n",
       "       [0.52849741],\n",
       "       [0.6373057 ],\n",
       "       [0.61658031],\n",
       "       [0.84974093],\n",
       "       [0.94300518],\n",
       "       [0.94300518],\n",
       "       [0.97927461],\n",
       "       [1.        ],\n",
       "       [0.92227979],\n",
       "       [0.93264249],\n",
       "       [0.97927461],\n",
       "       [0.87564767],\n",
       "       [0.83419689],\n",
       "       [0.68911917],\n",
       "       [0.76683938],\n",
       "       [0.65284974],\n",
       "       [0.56476684],\n",
       "       [0.55440415],\n",
       "       [0.65803109],\n",
       "       [0.8134715 ],\n",
       "       [0.77202073],\n",
       "       [0.7357513 ],\n",
       "       [0.74093264],\n",
       "       [0.72020725],\n",
       "       [0.66839378],\n",
       "       [0.70466321],\n",
       "       [0.68911917],\n",
       "       [0.69948187],\n",
       "       [0.4507772 ],\n",
       "       [0.4611399 ],\n",
       "       [0.48704663],\n",
       "       [0.41450777],\n",
       "       [0.45595855],\n",
       "       [0.4507772 ],\n",
       "       [0.4507772 ],\n",
       "       [0.49740933],\n",
       "       [0.49740933],\n",
       "       [0.6373057 ],\n",
       "       [0.67875648],\n",
       "       [0.60103627],\n",
       "       [0.5388601 ],\n",
       "       [0.50259067],\n",
       "       [0.60103627],\n",
       "       [0.52849741],\n",
       "       [0.46632124],\n",
       "       [0.4611399 ],\n",
       "       [0.47668394],\n",
       "       [0.44559585],\n",
       "       [0.40932642],\n",
       "       [0.38341969],\n",
       "       [0.37823834],\n",
       "       [0.44559585],\n",
       "       [0.42487047],\n",
       "       [0.4507772 ],\n",
       "       [0.47668394],\n",
       "       [0.53367876],\n",
       "       [0.49222798],\n",
       "       [0.49222798],\n",
       "       [0.51813472],\n",
       "       [0.5388601 ],\n",
       "       [0.51295337],\n",
       "       [0.56476684],\n",
       "       [0.7253886 ],\n",
       "       [0.63212435],\n",
       "       [0.6373057 ],\n",
       "       [0.56476684],\n",
       "       [0.62176166],\n",
       "       [0.52331606],\n",
       "       [0.46632124],\n",
       "       [0.48704663],\n",
       "       [0.55958549],\n",
       "       [0.47668394],\n",
       "       [0.50777202],\n",
       "       [0.5492228 ],\n",
       "       [0.53367876],\n",
       "       [0.57512953],\n",
       "       [0.54404145],\n",
       "       [0.5492228 ],\n",
       "       [0.56994819],\n",
       "       [0.60621762],\n",
       "       [0.61139896],\n",
       "       [0.58031088],\n",
       "       [0.59585492],\n",
       "       [0.58549223],\n",
       "       [0.55440415],\n",
       "       [0.47668394],\n",
       "       [0.46632124],\n",
       "       [0.45595855],\n",
       "       [0.50259067],\n",
       "       [0.5492228 ],\n",
       "       [0.5492228 ],\n",
       "       [0.58549223],\n",
       "       [0.52849741],\n",
       "       [0.58031088],\n",
       "       [0.55958549],\n",
       "       [0.58549223],\n",
       "       [0.59585492],\n",
       "       [0.61139896],\n",
       "       [0.54404145],\n",
       "       [0.58549223],\n",
       "       [0.59585492],\n",
       "       [0.60103627],\n",
       "       [0.60621762],\n",
       "       [0.64248705],\n",
       "       [0.72020725],\n",
       "       [0.74611399],\n",
       "       [0.76165803],\n",
       "       [0.77202073],\n",
       "       [0.84974093],\n",
       "       [0.92227979],\n",
       "       [0.90673575],\n",
       "       [0.88601036],\n",
       "       [0.93264249],\n",
       "       [0.89119171],\n",
       "       [0.89637306],\n",
       "       [0.87564767],\n",
       "       [0.94300518],\n",
       "       [0.93782383],\n",
       "       [0.78756477],\n",
       "       [0.78756477],\n",
       "       [0.78238342],\n",
       "       [0.78756477],\n",
       "       [0.79274611],\n",
       "       [0.8134715 ],\n",
       "       [0.80310881],\n",
       "       [0.81865285],\n",
       "       [0.83419689],\n",
       "       [0.8238342 ],\n",
       "       [0.77202073],\n",
       "       [0.70466321],\n",
       "       [0.78238342],\n",
       "       [0.7253886 ],\n",
       "       [0.67357513],\n",
       "       [0.67875648],\n",
       "       [0.62176166],\n",
       "       [0.62694301],\n",
       "       [0.58549223],\n",
       "       [0.67875648],\n",
       "       [0.6373057 ],\n",
       "       [0.62694301],\n",
       "       [0.56476684],\n",
       "       [0.60621762],\n",
       "       [0.60621762],\n",
       "       [0.68911917],\n",
       "       [0.68393782],\n",
       "       [0.65803109],\n",
       "       [0.64766839],\n",
       "       [0.69430052],\n",
       "       [0.70984456],\n",
       "       [0.72020725],\n",
       "       [0.73056995],\n",
       "       [0.74611399],\n",
       "       [0.78238342],\n",
       "       [0.68911917],\n",
       "       [0.67357513],\n",
       "       [0.64248705],\n",
       "       [0.72020725],\n",
       "       [0.74611399]])"
      ]
     },
     "execution_count": 44,
     "metadata": {},
     "output_type": "execute_result"
    }
   ],
   "source": [
    "#SclaScale the data\n",
    "scale = MinMaxScaler(feature_range=(0,1))\n",
    "scaled_data = scale.fit_transform(dataset)\n",
    "scaled_data"
   ]
  },
  {
   "cell_type": "code",
   "execution_count": 50,
   "id": "cdfe8052",
   "metadata": {},
   "outputs": [
    {
     "name": "stdout",
     "output_type": "stream",
     "text": [
      "[array([0.01036269, 0.05181347, 0.        , 0.        , 0.06217617,\n",
      "       0.14507772, 0.22797927, 0.30569948, 0.34715026, 0.32642487,\n",
      "       0.28497409, 0.32642487, 0.27979275, 0.31606218, 0.25388601,\n",
      "       0.22797927, 0.20207254, 0.24870466, 0.29015544, 0.29533679,\n",
      "       0.39378238, 0.40932642, 0.39378238, 0.41968912, 0.30569948,\n",
      "       0.2746114 , 0.34715026, 0.35233161, 0.4611399 , 0.41450777,\n",
      "       0.52849741, 0.52849741, 0.61658031, 0.46632124, 0.4611399 ,\n",
      "       0.47150259, 0.37305699, 0.44559585, 0.52331606, 0.50259067,\n",
      "       0.59067358, 0.54404145, 0.4507772 , 0.23316062, 0.31088083,\n",
      "       0.31606218, 0.44559585, 0.43523316, 0.38341969, 0.47150259,\n",
      "       0.45595855, 0.32642487, 0.29533679, 0.31606218, 0.29015544,\n",
      "       0.29533679, 0.28497409, 0.21761658, 0.22797927, 0.23316062])]\n",
      "[0.1917098445595855]\n",
      "\n"
     ]
    }
   ],
   "source": [
    "train_data = scaled_data[0:traning_data_len,:]\n",
    "x_train = []\n",
    "y_train = []\n",
    "\n",
    "for i in range(60, len(train_data)):\n",
    "    x_train.append(train_data[i-60:i, 0])\n",
    "    y_train.append(train_data[i, 0])\n",
    "    if i <=60:\n",
    "        print(x_train)\n",
    "        print(y_train)\n",
    "        print()"
   ]
  },
  {
   "cell_type": "code",
   "execution_count": 51,
   "id": "c802d5d2",
   "metadata": {},
   "outputs": [],
   "source": [
    "x_train,y_train = np.array(x_train),np.array(y_train)"
   ]
  },
  {
   "cell_type": "code",
   "execution_count": 56,
   "id": "d9bd4179",
   "metadata": {},
   "outputs": [
    {
     "data": {
      "text/plain": [
       "(142, 60, 1)"
      ]
     },
     "execution_count": 56,
     "metadata": {},
     "output_type": "execute_result"
    }
   ],
   "source": [
    "x_train = np.reshape(x_train,(x_train.shape[0],x_train.shape[1],1))\n",
    "x_train.shape"
   ]
  },
  {
   "cell_type": "code",
   "execution_count": 58,
   "id": "339a9e9c",
   "metadata": {},
   "outputs": [],
   "source": [
    "model = Sequential()\n",
    "model.add(LSTM(50, return_sequences=True, input_shape=(x_train.shape[1], 1)))\n",
    "model.add(LSTM(50, return_sequences=False))  # Added the missing closing parenthesis here\n",
    "model.add(Dense(25))\n",
    "model.add(Dense(1)) \n",
    "          "
   ]
  },
  {
   "cell_type": "code",
   "execution_count": 59,
   "id": "ebba97ee",
   "metadata": {},
   "outputs": [],
   "source": [
    "model.compile(optimizer='adam',loss='mean_squared_error')"
   ]
  },
  {
   "cell_type": "code",
   "execution_count": 60,
   "id": "c65d3a37",
   "metadata": {},
   "outputs": [
    {
     "name": "stdout",
     "output_type": "stream",
     "text": [
      "142/142 [==============================] - 6s 22ms/step - loss: 0.0213\n"
     ]
    },
    {
     "data": {
      "text/plain": [
       "<keras.callbacks.History at 0x1f9d1da0160>"
      ]
     },
     "execution_count": 60,
     "metadata": {},
     "output_type": "execute_result"
    }
   ],
   "source": [
    "model.fit(x_train,y_train,batch_size=1,epochs=1)"
   ]
  },
  {
   "cell_type": "code",
   "execution_count": 64,
   "id": "95d6fc59",
   "metadata": {},
   "outputs": [],
   "source": [
    "test_data = scaled_data[traning_data_len - 60:, :]\n",
    "\n",
    "x_test = []\n",
    "y_test = dataset[traning_data_len:, :]  # Assuming dataset contains your target values\n",
    "\n",
    "for i in range(60, len(test_data)):\n",
    "    x_test.append(test_data[i - 60:i, 0])\n",
    "\n",
    "x_test = np.array(x_test)\n"
   ]
  },
  {
   "cell_type": "code",
   "execution_count": 65,
   "id": "4bcb7668",
   "metadata": {},
   "outputs": [
    {
     "data": {
      "text/plain": [
       "(50, 60, 1)"
      ]
     },
     "execution_count": 65,
     "metadata": {},
     "output_type": "execute_result"
    }
   ],
   "source": [
    "x_test = np.reshape(x_test,(x_test.shape[0],x_test.shape[1],1))\n",
    "x_test.shape"
   ]
  },
  {
   "cell_type": "code",
   "execution_count": 66,
   "id": "5c6a24be",
   "metadata": {},
   "outputs": [
    {
     "name": "stdout",
     "output_type": "stream",
     "text": [
      "2/2 [==============================] - 1s 11ms/step\n"
     ]
    }
   ],
   "source": [
    "predict = model.predict(x_test)\n",
    "predict = scale.inverse_transform(predict)"
   ]
  },
  {
   "cell_type": "code",
   "execution_count": 67,
   "id": "0dc6c0cc",
   "metadata": {},
   "outputs": [
    {
     "data": {
      "text/plain": [
       "0.01872137298583981"
      ]
     },
     "execution_count": 67,
     "metadata": {},
     "output_type": "execute_result"
    }
   ],
   "source": [
    "#let's get RMSE\n",
    "rmse = np.sqrt(np.mean(predict-y_test)**2)\n",
    "rmse "
   ]
  },
  {
   "cell_type": "code",
   "execution_count": 69,
   "id": "79623360",
   "metadata": {},
   "outputs": [
    {
     "name": "stderr",
     "output_type": "stream",
     "text": [
      "C:\\Users\\Galaxy Computers\\AppData\\Local\\Temp\\ipykernel_7592\\2808688855.py:4: SettingWithCopyWarning: \n",
      "A value is trying to be set on a copy of a slice from a DataFrame.\n",
      "Try using .loc[row_indexer,col_indexer] = value instead\n",
      "\n",
      "See the caveats in the documentation: https://pandas.pydata.org/pandas-docs/stable/user_guide/indexing.html#returning-a-view-versus-a-copy\n",
      "  valid['predict'] = predict\n"
     ]
    }
   ],
   "source": [
    "#Plot the data\n",
    "train = data[:traning_data_len]\n",
    "valid = data[traning_data_len:]\n",
    "valid['predict'] = predict"
   ]
  },
  {
   "cell_type": "code",
   "execution_count": 73,
   "id": "9fc350a6",
   "metadata": {},
   "outputs": [
    {
     "data": {
      "text/plain": [
       "<matplotlib.legend.Legend at 0x1f9d8435640>"
      ]
     },
     "execution_count": 73,
     "metadata": {},
     "output_type": "execute_result"
    },
    {
     "data": {
      "image/png": "[encoded data removed]",
      "text/plain": [
       "<Figure size 1152x576 with 1 Axes>"
      ]
     },
     "metadata": {},
     "output_type": "display_data"
    }
   ],
   "source": [
    "#Vizulation the data\n",
    "plt.figure(figsize=(16,8))\n",
    "plt.title('Model')\n",
    "plt.xlabel('Date', fontsize=18)\n",
    "plt.ylabel('Close Price $', fontsize=18)\n",
    "plt.plot(train['Close'])\n",
    "plt.plot(valid[['Close', 'predict']])\n",
    "plt.legend(['Train','Val','Prediction'], loc= 'lower right')"
   ]
  },
  {
   "cell_type": "code",
   "execution_count": null,
   "id": "62fa540b",
   "metadata": {},
   "outputs": [],
   "source": []
  }
 ],
 "metadata": {
  "kernelspec": {
   "display_name": "ml",
   "language": "python",
   "name": "ml"
  },
  "language_info": {
   "codemirror_mode": {
    "name": "ipython",
    "version": 3
   },
   "file_extension": ".py",
   "mimetype": "text/x-python",
   "name": "python",
   "nbconvert_exporter": "python",
   "pygments_lexer": "ipython3",
   "version": "3.9.12"
  }
 },
 "nbformat": 4,
 "nbformat_minor": 5
}
